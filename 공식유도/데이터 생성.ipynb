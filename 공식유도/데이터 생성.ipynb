{
 "cells": [
  {
   "cell_type": "code",
   "execution_count": 11,
   "metadata": {},
   "outputs": [
    {
     "data": {
      "text/plain": [
       "array([50, 36, 88, 26, 65, 28, 17, 84, 92, 42])"
      ]
     },
     "execution_count": 11,
     "metadata": {},
     "output_type": "execute_result"
    }
   ],
   "source": [
    "import numpy as np\n",
    "import pandas as pd\n",
    "rubber = [1,100]\n",
    "wood = [11]\n",
    "glass = [50,90]\n",
    "ALu =[69]\n",
    "np.random.randint(1,100,10000)"
   ]
  },
  {
   "cell_type": "code",
   "execution_count": 45,
   "metadata": {},
   "outputs": [],
   "source": [
    "data = pd.DataFrame({})\n",
    "data['E'] = [*np.random.randint(1,100,10000)*0.001,*[11]*10000,* np.random.randint(50,90,10000) ,*[69]*10000]\n",
    "data['F'] = np.random.randint(1,40000,40000)\n",
    "data['L'] = np.random.randint(1,10,40000)\n",
    "data['A'] = np.random.randint(10,10000,40000)"
   ]
  },
  {
   "cell_type": "code",
   "execution_count": 48,
   "metadata": {},
   "outputs": [
    {
     "data": {
      "text/html": [
       "<div>\n",
       "<style scoped>\n",
       "    .dataframe tbody tr th:only-of-type {\n",
       "        vertical-align: middle;\n",
       "    }\n",
       "\n",
       "    .dataframe tbody tr th {\n",
       "        vertical-align: top;\n",
       "    }\n",
       "\n",
       "    .dataframe thead th {\n",
       "        text-align: right;\n",
       "    }\n",
       "</style>\n",
       "<table border=\"1\" class=\"dataframe\">\n",
       "  <thead>\n",
       "    <tr style=\"text-align: right;\">\n",
       "      <th></th>\n",
       "      <th>E</th>\n",
       "      <th>F</th>\n",
       "      <th>L</th>\n",
       "      <th>A</th>\n",
       "      <th>dL</th>\n",
       "    </tr>\n",
       "  </thead>\n",
       "  <tbody>\n",
       "    <tr>\n",
       "      <th>0</th>\n",
       "      <td>0.054</td>\n",
       "      <td>37189</td>\n",
       "      <td>6</td>\n",
       "      <td>6258</td>\n",
       "      <td>660.292603</td>\n",
       "    </tr>\n",
       "    <tr>\n",
       "      <th>1</th>\n",
       "      <td>0.090</td>\n",
       "      <td>38279</td>\n",
       "      <td>9</td>\n",
       "      <td>6802</td>\n",
       "      <td>562.760953</td>\n",
       "    </tr>\n",
       "    <tr>\n",
       "      <th>2</th>\n",
       "      <td>0.099</td>\n",
       "      <td>13264</td>\n",
       "      <td>7</td>\n",
       "      <td>5257</td>\n",
       "      <td>178.401861</td>\n",
       "    </tr>\n",
       "    <tr>\n",
       "      <th>3</th>\n",
       "      <td>0.059</td>\n",
       "      <td>23816</td>\n",
       "      <td>3</td>\n",
       "      <td>8580</td>\n",
       "      <td>141.140216</td>\n",
       "    </tr>\n",
       "    <tr>\n",
       "      <th>4</th>\n",
       "      <td>0.091</td>\n",
       "      <td>28031</td>\n",
       "      <td>7</td>\n",
       "      <td>8606</td>\n",
       "      <td>250.549706</td>\n",
       "    </tr>\n",
       "    <tr>\n",
       "      <th>...</th>\n",
       "      <td>...</td>\n",
       "      <td>...</td>\n",
       "      <td>...</td>\n",
       "      <td>...</td>\n",
       "      <td>...</td>\n",
       "    </tr>\n",
       "    <tr>\n",
       "      <th>39995</th>\n",
       "      <td>69.000</td>\n",
       "      <td>38222</td>\n",
       "      <td>8</td>\n",
       "      <td>958</td>\n",
       "      <td>4.625821</td>\n",
       "    </tr>\n",
       "    <tr>\n",
       "      <th>39996</th>\n",
       "      <td>69.000</td>\n",
       "      <td>34835</td>\n",
       "      <td>8</td>\n",
       "      <td>8424</td>\n",
       "      <td>0.479445</td>\n",
       "    </tr>\n",
       "    <tr>\n",
       "      <th>39997</th>\n",
       "      <td>69.000</td>\n",
       "      <td>28893</td>\n",
       "      <td>5</td>\n",
       "      <td>5922</td>\n",
       "      <td>0.353545</td>\n",
       "    </tr>\n",
       "    <tr>\n",
       "      <th>39998</th>\n",
       "      <td>69.000</td>\n",
       "      <td>8928</td>\n",
       "      <td>4</td>\n",
       "      <td>7103</td>\n",
       "      <td>0.072866</td>\n",
       "    </tr>\n",
       "    <tr>\n",
       "      <th>39999</th>\n",
       "      <td>69.000</td>\n",
       "      <td>9729</td>\n",
       "      <td>8</td>\n",
       "      <td>8518</td>\n",
       "      <td>0.132425</td>\n",
       "    </tr>\n",
       "  </tbody>\n",
       "</table>\n",
       "<p>40000 rows × 5 columns</p>\n",
       "</div>"
      ],
      "text/plain": [
       "            E      F  L     A          dL\n",
       "0       0.054  37189  6  6258  660.292603\n",
       "1       0.090  38279  9  6802  562.760953\n",
       "2       0.099  13264  7  5257  178.401861\n",
       "3       0.059  23816  3  8580  141.140216\n",
       "4       0.091  28031  7  8606  250.549706\n",
       "...       ...    ... ..   ...         ...\n",
       "39995  69.000  38222  8   958    4.625821\n",
       "39996  69.000  34835  8  8424    0.479445\n",
       "39997  69.000  28893  5  5922    0.353545\n",
       "39998  69.000   8928  4  7103    0.072866\n",
       "39999  69.000   9729  8  8518    0.132425\n",
       "\n",
       "[40000 rows x 5 columns]"
      ]
     },
     "execution_count": 48,
     "metadata": {},
     "output_type": "execute_result"
    }
   ],
   "source": [
    "data['dL'] = data['F']*data['L']/(data['A']*data['E'])\n",
    "data"
   ]
  },
  {
   "cell_type": "code",
   "execution_count": 50,
   "metadata": {},
   "outputs": [],
   "source": [
    "data['materials']=[*['고무']*10000,*['나무']*10000,*['유리']*10000,*['알루미늄']*10000]"
   ]
  },
  {
   "cell_type": "code",
   "execution_count": 53,
   "metadata": {},
   "outputs": [],
   "source": [
    "data['mat']=data['materials'].apply(lambda x : np.where(x =='고무',1,np.where(x=='나무',2,np.where(x=='유리',3,4))))"
   ]
  },
  {
   "cell_type": "code",
   "execution_count": 56,
   "metadata": {},
   "outputs": [],
   "source": [
    "data.to_csv('yong_Data.csv',index=False)"
   ]
  },
  {
   "cell_type": "code",
   "execution_count": null,
   "metadata": {},
   "outputs": [],
   "source": []
  }
 ],
 "metadata": {
  "kernelspec": {
   "display_name": "Python 3",
   "language": "python",
   "name": "python3"
  },
  "language_info": {
   "codemirror_mode": {
    "name": "ipython",
    "version": 3
   },
   "file_extension": ".py",
   "mimetype": "text/x-python",
   "name": "python",
   "nbconvert_exporter": "python",
   "pygments_lexer": "ipython3",
   "version": "3.8.5"
  }
 },
 "nbformat": 4,
 "nbformat_minor": 4
}
