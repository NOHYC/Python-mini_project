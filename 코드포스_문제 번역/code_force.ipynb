{
 "metadata": {
  "language_info": {
   "codemirror_mode": {
    "name": "ipython",
    "version": 3
   },
   "file_extension": ".py",
   "mimetype": "text/x-python",
   "name": "python",
   "nbconvert_exporter": "python",
   "pygments_lexer": "ipython3",
   "version": "3.8.5-final"
  },
  "orig_nbformat": 2,
  "kernelspec": {
   "name": "python_defaultSpec_1600430585288",
   "display_name": "Python 3.8.5 32-bit"
  }
 },
 "nbformat": 4,
 "nbformat_minor": 2,
 "cells": [
  {
   "cell_type": "code",
   "execution_count": 20,
   "metadata": {
    "tags": []
   },
   "outputs": [],
   "source": [
    "import urllib.request\n",
    "from bs4 import BeautifulSoup\n",
    "import re\n",
    "import time\n",
    "from selenium import webdriver\n",
    "\n",
    "def text_cf(part1_s):\n",
    "    part1_ss= part1_s.replace(\"      \",\"\").replace(\"<p>\",\"\").replace(\"</p>\",\"\").replace('''<span class=\"tex-font-style-tt\">''',\"\").replace('''<span class=\"tex-font-style-it\">''',\"\").replace('''<span class=\"tex-font-style-bf\">''',\"\").replace('''<div class=\"input-specification\">''',\"\").replace('''<div class=\"section-title\">''',\"\").replace('</div>',\"\").replace('</span>',\"\").replace(\"\\le\",\"<= \").replace('<ul>',\"\").replace('</ul>',\"\").replace('<li>',\"\").replace('</li>',\"\").replace('<div>',\"\").replace(\"\\ldots\",\"......\").replace(\"\\\\ne\",\" != \").replace(\"i-th\",\"i_th \").replace(\"\\\\to\",\" -> \").replace('''<div class=\"output-specification\">''',\"\").replace(\"\\,\",\",\").replace(\"\\dots\",\"...\").replace(\"\\cdot\",\"*\").replace(\"[\",\"\\n\").replace(\"]\",\"\\n\")\n",
    "    return part1_ss\n",
    "\n",
    "def code_Se(res,string):\n",
    "    import re\n",
    "    part1 = res.select(string)\n",
    "    part1_s = re.sub(\"[$]?\",\"\",str(part1))\n",
    "    return part1_s\n",
    "\n",
    "url = input('페이지 URL 입력')\n",
    "\n",
    "readl = urllib.request.urlopen(url).read().decode('utf-8')\n",
    "res = BeautifulSoup(readl,'html.parser')\n",
    "\n",
    "\n",
    "part1 = code_Se(res,'#pageContent > div.problemindexholder > div > div > div:nth-child(2)')\n",
    "part2 =code_Se(res,'''#pageContent > div.problemindexholder > div > div > div.input-specification''')\n",
    "part3 = code_Se(res,'''#pageContent > div.problemindexholder > div > div > div.output-specification''')\n",
    "sentance = part1+part2+part3\n",
    "sss = text_cf(sentance)\n",
    "\n",
    "time.sleep(1)\n",
    "\n",
    "\n",
    "\n",
    "driver = webdriver.Chrome(\"C:/chromedriver/chromedriver.exe\")\n",
    "kakao_url = \"https://translate.kakao.com/\"\n",
    "driver.get(kakao_url)\n",
    "html =driver.page_source\n",
    "time.sleep(2)\n",
    "\n",
    "input_text = driver.find_element_by_css_selector(\"div.box_tf>div.tf_translation\")\n",
    "input_text.clear()\n",
    "input_text.send_keys(sss)\n",
    "\n",
    "time.sleep(3)\n",
    "\n",
    "html1 = driver.page_source\n",
    "soup1 = BeautifulSoup(html1,\"html.parser\")\n",
    "result = soup1.select(\"p.desc_translation\")[0].text\n"
   ]
  },
  {
   "cell_type": "code",
   "execution_count": 21,
   "metadata": {
    "tags": []
   },
   "outputs": [
    {
     "output_type": "stream",
     "name": "stdout",
     "text": "당신은 큐브크래프트라고 불리는 매우 인기 있는 게임을 하고 있습니다. 처음에, 당신은 하나의 막대기를 가지고 있고 K 횃불을 만들고 싶어한다. 하나의 횃불은 하나의 막대기와 하나의 석탄을 사용하여 만들 수 있습니다. 희망컨대, 당신은 x 막대기와 교환 1 스틱을 교환하고 x 막대기를 얻는 두 가지 무역 제안을 가진 매우 잘생긴 방랑 무역업자를 만났습니다. Y 스틱을 1탄으로 교환한다(Y 스틱을 잃어서 1탄을 얻는다). 한 거래 동안, 당신은 이 두 가지 거래 제안 중 하나만 사용할 수 있다. 어떤 순서로든 원하는 수의 거래 오퍼를 사용할 수 있습니다.당신의 임무는 최소한 k개의 횃불을 만드는 데 필요한 최소 거래 수를 찾는 것입니다. 정답은 항상 주어진 제약 조건 하에 존재합니다.독립적인 시험 사례에 답해야 합니다.\nYou are playing a very popular game called Cubecraft. Initially, you have one stick and want to craft k torches. One torch can be crafted using one stick and one coal.Hopefully, you've met a very handsome wandering trader who has two trade offers:  exchange 1 stick for x sticks (you lose 1 stick and gain x sticks).  exchange y sticks for 1 coal (you lose y sticks and gain 1 coal). During one trade, you can use only one of these two trade offers. You can use each trade offer any number of times you want to, in any order.Your task is to find the minimum number of trades you need to craft at least k torches. The answer always exists under the given constraints.You have to answer t independent test cases.\n====================================================================================================\n\n\n====================================================================================================\n입력 입력의 첫 번째 줄에는 하나의 정수 t(1 <= t <= 2 * 104)가 포함되어 있는데, 이는 테스트 케이스 수입니다. 그 다음 t 테스트 케이스가 뒤따른다.시험 케이스의 유일한 라인은 3개의 정수 x, y 및 k (2 <= x <= 109; 1 <= y, k <= 109) - 막대기로 살 수 있는 막대기 수, 석탄 1개를 사는 데 필요한 막대기 수 및 필요한 횃불 수입니다.\nInputThe first line of the input contains one integer t (1 <=  t <=  2 * 10^4) — the number of test cases. Then t test cases follow.The only line of the test case contains three integers x, y and k (2 <=  x <=  10^9; 1 <=  y, k <=  10^9) — the number of sticks you can buy with one stick, the number of sticks required to buy one coal and the number of torches you need, respectively.\n====================================================================================================\n\n\n====================================================================================================\n각 테스트 케이스의 출력에 대한 답변을 인쇄하십시오. 최소 k개의 횃불을 만드는 데 필요한 최소 거래 수입니다. 정답은 항상 주어진 제약 조건 하에 존재한다.\nOutputFor each test case, print the answer: the minimum number of trades you need to craft at least k torches. The answer always exists under the given constraints.\n====================================================================================================\n"
    }
   ],
   "source": [
    "num = 0\n",
    "kor = result.split('\\n')\n",
    "eng = sss.split('\\n')\n",
    "while len(kor) > num:\n",
    "    print(kor[num])\n",
    "    print(eng[num+1])\n",
    "    print('='*100)\n",
    "    num+=1"
   ]
  },
  {
   "cell_type": "code",
   "execution_count": null,
   "metadata": {},
   "outputs": [],
   "source": []
  }
 ]
}