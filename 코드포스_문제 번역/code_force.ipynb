{
 "metadata": {
  "language_info": {
   "codemirror_mode": {
    "name": "ipython",
    "version": 3
   },
   "file_extension": ".py",
   "mimetype": "text/x-python",
   "name": "python",
   "nbconvert_exporter": "python",
   "pygments_lexer": "ipython3",
   "version": "3.8.5-final"
  },
  "orig_nbformat": 2,
  "kernelspec": {
   "name": "python_defaultSpec_1600430585288",
   "display_name": "Python 3.8.5 32-bit"
  }
 },
 "nbformat": 4,
 "nbformat_minor": 2,
 "cells": [
  {
   "cell_type": "code",
   "execution_count": 1,
   "metadata": {
    "tags": []
   },
   "outputs": [],
   "source": [
    "import urllib.request\n",
    "from bs4 import BeautifulSoup\n",
    "import re\n",
    "import time\n",
    "from selenium import webdriver\n",
    "\n",
    "def text_cf(part1_s):\n",
    "    part1_ss= part1_s.replace(\"      \",\"\").replace(\"<p>\",\"\").replace(\"</p>\",\"\").replace('''<span class=\"tex-font-style-tt\">''',\"\").replace('''<span class=\"tex-font-style-it\">''',\"\").replace('''<span class=\"tex-font-style-bf\">''',\"\").replace('''<div class=\"input-specification\">''',\"\").replace('''<div class=\"section-title\">''',\"\").replace('</div>',\"\").replace('</span>',\"\").replace(\"\\le\",\"<= \").replace('<ul>',\"\").replace('</ul>',\"\").replace('<li>',\"\").replace('</li>',\"\").replace('<div>',\"\").replace(\"\\ldots\",\"......\").replace(\"\\\\ne\",\" != \").replace(\"i-th\",\"i_th \").replace(\"\\\\to\",\" -> \").replace('''<div class=\"output-specification\">''',\"\").replace(\"\\,\",\",\").replace(\"\\dots\",\"...\").replace(\"\\cdot\",\"*\").replace(\"[\",\"\\n\").replace(\"]\",\"\\n\")\n",
    "    return part1_ss\n",
    "\n",
    "def code_Se(res,string):\n",
    "    import re\n",
    "    part1 = res.select(string)\n",
    "    part1_s = re.sub(\"[$]?\",\"\",str(part1))\n",
    "    return part1_s\n",
    "\n",
    "url = input('페이지 URL 입력')\n",
    "\n",
    "readl = urllib.request.urlopen(url).read().decode('utf-8')\n",
    "res = BeautifulSoup(readl,'html.parser')\n",
    "\n",
    "\n",
    "part1 = code_Se(res,'#pageContent > div.problemindexholder > div > div > div:nth-child(2)')\n",
    "part2 =code_Se(res,'''#pageContent > div.problemindexholder > div > div > div.input-specification''')\n",
    "part3 = code_Se(res,'''#pageContent > div.problemindexholder > div > div > div.output-specification''')\n",
    "sentance = part1+part2+part3\n",
    "sss = text_cf(sentance)\n",
    "\n",
    "time.sleep(1)\n",
    "\n",
    "\n",
    "\n",
    "driver = webdriver.Chrome(\"C:/chromedriver/chromedriver.exe\")\n",
    "kakao_url = \"https://translate.kakao.com/\"\n",
    "driver.get(kakao_url)\n",
    "html =driver.page_source\n",
    "time.sleep(2)\n",
    "\n",
    "input_text = driver.find_element_by_css_selector(\"div.box_tf>div.tf_translation\")\n",
    "input_text.clear()\n",
    "input_text.send_keys(sss)\n",
    "\n",
    "time.sleep(3)\n",
    "\n",
    "html1 = driver.page_source\n",
    "soup1 = BeautifulSoup(html1,\"html.parser\")\n",
    "result = soup1.select(\"p.desc_translation\")[0].text\n",
    "\n"
   ]
  },
  {
   "cell_type": "code",
   "execution_count": 14,
   "metadata": {
    "tags": []
   },
   "outputs": [
    {
     "output_type": "stream",
     "name": "stdout",
     "text": "n개의 정수로 구성된 배열이 주어진다. 우리는 서브어레이 a를 나타낸다.\nYou are given an array a consisting of n integers. We denote the subarray a\n====================================================================================================\n엘에이\nl..r\n====================================================================================================\n배열로서\n as the array \n====================================================================================================\na_l, a_l + 1, ..., a_r\na_l, a_{l + 1}, ..., a_r\n====================================================================================================\n(1 <= l <= r <= n)이 서브어레이에서 발생하는 모든 정수가 정확히 세 번 발생하면 서브어레이는 좋은 것으로 간주된다. 예를 들어, 배열\n (1 <=  l <=  r <=  n).A subarray is considered good if every integer that occurs in this subarray occurs there exactly thrice. For example, the array \n====================================================================================================\n1, 2, 2, 1, 1, 2, 2, 2\n1, 2, 2, 2, 1, 1, 2, 2, 2\n====================================================================================================\n세 개의 좋은 서브어레이가 있다: a\n has three good subarrays:  a\n====================================================================================================\n1.6\n1..6\n====================================================================================================\n=\n = \n====================================================================================================\n1, 2, 2, 2, 1, 1\n1, 2, 2, 2, 1, 1\n====================================================================================================\n; a\n;  a\n====================================================================================================\n2.4\n2..4\n====================================================================================================\n=\n = \n====================================================================================================\n2, 2, 2\n2, 2, 2\n====================================================================================================\n; a\n;  a\n====================================================================================================\n7..9\n7..9\n====================================================================================================\n=\n = \n====================================================================================================\n2, 2, 2\n2, 2, 2\n====================================================================================================\n. 주어진 배열 a의 양호한 서브어레이 수를 계산한다.\n. Calculate the number of good subarrays of the given array a.\n====================================================================================================\n\n\n====================================================================================================\n입력제1 라인은 하나의 정수 n(1 <= n < = 5 * 105)을 포함한다.제2 라인은 n개의 정수 a_1, a_2, ..., a_n(1 < = a_i < = n)을 포함한다.\nInputThe first line contains one integer n (1 <=  n <=  5 * 10^5).The second line contains n integers a_1, a_2, ..., a_n (1 <=  a_i <=  n).\n====================================================================================================\n\n\n====================================================================================================\n출력 1 정수 - 배열 a의 좋은 서브어레이 수.\nOutputPrint one integer — the number of good subarrays of the array a.\n====================================================================================================\n"
    }
   ],
   "source": [
    "num = 0\n",
    "kor = result.split('\\n')\n",
    "eng = sss.split('\\n')\n",
    "while len(kor) > num:\n",
    "    print(kor[num])\n",
    "    print(eng[num+1])\n",
    "    print('='*100)\n",
    "    num+=1"
   ]
  },
  {
   "cell_type": "code",
   "execution_count": null,
   "metadata": {},
   "outputs": [],
   "source": []
  }
 ]
}